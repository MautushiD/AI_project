{
 "cells": [
  {
   "cell_type": "code",
   "execution_count": 2,
   "metadata": {},
   "outputs": [
    {
     "name": "stdout",
     "output_type": "stream",
     "text": [
      "Renaming complete!\n"
     ]
    }
   ],
   "source": [
    "import os\n",
    "\n",
    "# Directory containing your images\n",
    "# Replace this with the path to your folder\n",
    "data_folder = '/Users/mautushid/github/AI_project/data/val/val_img'\n",
    "\n",
    "# Get all jpg files in the directory\n",
    "img_files = [f for f in os.listdir(data_folder) if f.endswith('.jpg')]\n",
    "\n",
    "# Sort them (this step might be optional, but ensures order if filenames have numbers or are random)\n",
    "img_files.sort()\n",
    "\n",
    "# Rename each file\n",
    "for idx, img_file in enumerate(img_files, 1):  # Start index from 1\n",
    "    old_path = os.path.join(data_folder, img_file)\n",
    "    new_path = os.path.join(data_folder, f\"{idx}.jpg\")\n",
    "    os.rename(old_path, new_path)\n",
    "\n",
    "print(\"Renaming complete!\")\n"
   ]
  }
 ],
 "metadata": {
  "kernelspec": {
   "display_name": "myenv",
   "language": "python",
   "name": "python3"
  },
  "language_info": {
   "codemirror_mode": {
    "name": "ipython",
    "version": 3
   },
   "file_extension": ".py",
   "mimetype": "text/x-python",
   "name": "python",
   "nbconvert_exporter": "python",
   "pygments_lexer": "ipython3",
   "version": "3.9.16"
  }
 },
 "nbformat": 4,
 "nbformat_minor": 2
}
