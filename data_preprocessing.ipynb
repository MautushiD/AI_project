{
 "cells": [
  {
   "cell_type": "markdown",
   "metadata": {},
   "source": [
    "# Description of the Notebook\n",
    "\n",
    "In this notebook, we we write a function to convert data from COCO format to YOLO format. We then convert the SODA 10M dataset into YOLO format."
   ]
  },
  {
   "cell_type": "code",
   "execution_count": 1,
   "metadata": {},
   "outputs": [],
   "source": [
    "import json\n",
    "import os"
   ]
  },
  {
   "cell_type": "code",
   "execution_count": 2,
   "metadata": {},
   "outputs": [],
   "source": [
    "def convert_coco_format_to_yolo(coco_json_path, output_directory):\n",
    "    # Load COCO JSON\n",
    "    with open(coco_json_path, 'r') as f:\n",
    "        coco_data = json.load(f)\n",
    "\n",
    "    # Create output directory if it doesn't exist\n",
    "    if not os.path.exists(output_directory):\n",
    "        os.makedirs(output_directory)\n",
    "\n",
    "    # Process each image\n",
    "    for image in coco_data['images']:\n",
    "        image_id = image['id']\n",
    "        file_name = os.path.splitext(image['file_name'])[0] + '.txt'\n",
    "        file_path = os.path.join(output_directory, file_name)\n",
    "        \n",
    "        # Get dimensions of the image\n",
    "        img_width = image['width']\n",
    "        img_height = image['height']\n",
    "\n",
    "        with open(file_path, 'w') as file:\n",
    "            # Find annotations for this image\n",
    "            for annotation in coco_data['annotations']:\n",
    "                if annotation['image_id'] == image_id:\n",
    "                    # COCO bbox format: [x_min, y_min, width, height]\n",
    "                    x_min, y_min, width, height = annotation['bbox']\n",
    "                    \n",
    "                    # Convert to YOLO format: [x_center, y_center, width, height]\n",
    "                    x_center = x_min + width / 2\n",
    "                    y_center = y_min + height / 2\n",
    "\n",
    "                    # Normalize coordinates by image size\n",
    "                    x_center /= img_width\n",
    "                    y_center /= img_height\n",
    "                    width /= img_width\n",
    "                    height /= img_height\n",
    "\n",
    "                    # Write to file\n",
    "                    class_id = annotation['category_id']\n",
    "                    file.write(f\"{class_id} {x_center} {y_center} {width} {height}\\n\")\n",
    "\n"
   ]
  },
  {
   "cell_type": "code",
   "execution_count": 3,
   "metadata": {},
   "outputs": [],
   "source": [
    "coco_json_path = '/Users/mautushid/github/AI_project/labeled/annotations/instance_val.json'  # Update this path\n",
    "output_directory = '/Users/mautushid/github/AI_project/yoloval'  # Update this path\n",
    "convert_coco_format_to_yolo(coco_json_path, output_directory)"
   ]
  },
  {
   "cell_type": "code",
   "execution_count": null,
   "metadata": {},
   "outputs": [],
   "source": []
  }
 ],
 "metadata": {
  "kernelspec": {
   "display_name": "myenv",
   "language": "python",
   "name": "python3"
  },
  "language_info": {
   "codemirror_mode": {
    "name": "ipython",
    "version": 3
   },
   "file_extension": ".py",
   "mimetype": "text/x-python",
   "name": "python",
   "nbconvert_exporter": "python",
   "pygments_lexer": "ipython3",
   "version": "3.9.16"
  }
 },
 "nbformat": 4,
 "nbformat_minor": 2
}
